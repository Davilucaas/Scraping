{
  "nbformat": 4,
  "nbformat_minor": 0,
  "metadata": {
    "colab": {
      "name": "Scraping.ipynb",
      "provenance": [],
      "collapsed_sections": []
    },
    "kernelspec": {
      "name": "python3",
      "display_name": "Python 3"
    },
    "language_info": {
      "name": "python"
    }
  },
  "cells": [
    {
      "cell_type": "code",
      "execution_count": 46,
      "metadata": {
        "colab": {
          "base_uri": "https://localhost:8080/"
        },
        "id": "_qpqISrR1av6",
        "outputId": "0d06b118-a044-4cc2-b267-e65a8dcf67ed"
      },
      "outputs": [
        {
          "output_type": "stream",
          "name": "stdout",
          "text": [
            "Nome: Jair Bolsonaro\n",
            "Data de Nascimento: 1955-03-21\n",
            "Nome: Luiz Inácio Lula da Silva\n",
            "Data de Nascimento: 1945-10-27\n",
            "Nome: Emilia Clarke\n",
            "Data de Nascimento: 1986-10-23\n"
          ]
        }
      ],
      "source": [
        "#! pip install parsel\n",
        "\n",
        "import requests\n",
        "import parsel\n",
        "from parsel import Selector\n",
        "\n",
        "pessoas = ['Jair_Bolsonaro', 'Luiz_Inácio_Lula_da_Silva', 'Emilia_Clarke']\n",
        "ver = []\n",
        "for i in pessoas:\n",
        "  response = requests.get(f'https://en.wikipedia.org/wiki/{i}').text\n",
        "  #print(response)\n",
        "  selector = Selector(response)\n",
        "  class_info = '.infobox-data span::text'\n",
        "  info = selector.css(class_info).getall()[1]\n",
        "  i = i.replace(\"_\",\" \")\n",
        "  ver.append(info)\n",
        "  print(f\"Nome: {i}\\nData de Nascimento: {info}\")"
      ]
    },
    {
      "cell_type": "markdown",
      "source": [
        ""
      ],
      "metadata": {
        "id": "_Ibw1J6H9jDB"
      }
    },
    {
      "cell_type": "code",
      "source": [
        ""
      ],
      "metadata": {
        "id": "i6r4H2SZ70RW"
      },
      "execution_count": null,
      "outputs": []
    }
  ]
}